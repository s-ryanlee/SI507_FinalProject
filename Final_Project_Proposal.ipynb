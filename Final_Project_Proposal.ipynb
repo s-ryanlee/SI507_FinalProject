{
  "nbformat": 4,
  "nbformat_minor": 0,
  "metadata": {
    "colab": {
      "name": "Final_Project_Proposal.ipynb",
      "provenance": [],
      "authorship_tag": "ABX9TyMzg2uWpdkWa/jUa7NnPUMs",
      "include_colab_link": true
    },
    "kernelspec": {
      "name": "python3",
      "display_name": "Python 3"
    }
  },
  "cells": [
    {
      "cell_type": "markdown",
      "metadata": {
        "id": "view-in-github",
        "colab_type": "text"
      },
      "source": [
        "<a href=\"https://colab.research.google.com/github/s-ryanlee/SI507_FinalProject/blob/main/Final_Project_Proposal.ipynb\" target=\"_parent\"><img src=\"https://colab.research.google.com/assets/colab-badge.svg\" alt=\"Open In Colab\"/></a>"
      ]
    },
    {
      "cell_type": "markdown",
      "metadata": {
        "id": "euijtpUhsmFd"
      },
      "source": [
        "# 1. Project Overview\n",
        "## a. Project Outcome\n",
        "Front end: Users can generate and battle pokemon hybrids.  \n",
        "Back end: Pulls \"parent\" pokemon data from a PokeAPI constructed database to generate hybrid. \n",
        "\"Parent\" pokemon data is averaged to create hybrid pokemon's data. \n",
        "When hybrid pokemon \"battle\", a winner is predicted based on each pokemon's types, stats, moves, and abilities. \n",
        "## b. Project Outline\n",
        "\n",
        "### 1. Collect Data\n",
        "  - Use PokeAPI to collect data on all current pokemon names, descriptions, types, stats, abilities, moves, and habitats. \n",
        "  - Utilize webscraping of Bulbapedia to fill in missing data (such as type matchups).\n",
        "  - Implement caching for responsible aquisition. \n",
        "\n",
        "### 2. Create Pokemon Datasets\n",
        "  - Construct various datasets consisting of \"parent\" pokemon, moves, abilities, and habitats.\n",
        "\n",
        "### 3. Statistical Computations\n",
        "  - Determine type, move, and ability probabilities. \n",
        "\n",
        "### 4. Generate Hybrids\n",
        "  - Develop hybrid generating function that:\n",
        "    - takes two pokemon, averages relavent data\n",
        "    - predicts type, moves, abilities, and habitats based on parent probabilities \n",
        "    - produces a \"child\" hybrid pokemon with attributes from both \"parent\" pokemon.\n",
        "    - Caches user generated hybrid pokemon for user to access at a later time.\n",
        "\n",
        "### 5. Battle Pokemon\n",
        "  - Determine pokemon for battle\n",
        "    - If pokemon exist in the database or cache \n",
        "      - pull pokemon data\n",
        "    - otherwise \n",
        "      - generate hybrid\n",
        "  - Predict winner based on stats, types, moves, and abilities \n",
        "\n",
        "### 6. Create User Interfaces\n",
        "  - Create user interface that enables hybrid pokemon generation.\n",
        "  - Create user interface that enables battling two previously created hybrid pokemon, or a hybrid pokemon against an existing \"parent\" pokemon.\n",
        "\n",
        "### 7. Create front end presentation.\n",
        "  - Using Jupyter Notebook or Flask? \n",
        "\n",
        "## c. Project Inspiration\n",
        "\n",
        "Inspiration for this project comes from [Pokemon Fusion](https://pokemon.alexonsager.net/), a website that enables users to select two Generation I pokemon or randomly \"fuses\" two Generation I pokemon together.\n",
        "I wanted to build on this idea by incorporating pokemon from all generations and add functionality to enable users to \"battle\" their generated pokemon. "
      ]
    },
    {
      "cell_type": "markdown",
      "metadata": {
        "id": "1SaHX8lKsrm3"
      },
      "source": [
        "# 2. Data Sources\n",
        "## a. PokeAPI \n",
        "**Challenge Score: 3**\n",
        "\n",
        "From [PokeAPI Documentation](https://pokeapi.co/docs/v2#info \"Documentation\")\n",
        "\n",
        "### 1. Information\n",
        "> This is a consumption-only API — only the HTTP GET method is available on resources.\n",
        "> \n",
        "> No authentication is required to access this API, and all resources are fully open and available. Since the move to static hosting in November 2018, rate limiting has been removed entirely, but we still encourage you to limit the frequency of requests to limit our hosting costs.\n",
        "\n",
        "### 2. Fair Use Policy\n",
        "> PokéAPI is free and open to use. It is also very popular. Because of this, we ask every developer to abide by our fair use policy. People not complying with the fair use policy will have their IP address permanently banned.\n",
        "> \n",
        "> PokéAPI is primarily an educational tool, and we will not tolerate denial of service attacks preventing people from learning.\n",
        "> \n",
        "> Rules:\n",
        "> \n",
        "> - Locally cache resources whenever you request them.\n",
        "> - Be nice and friendly to your fellow PokéAPI developers.\n",
        "\n",
        "### 3. Resource Lists/Pagination\n",
        "> Calling any API endpoint without a resource ID or name will return a paginated list of available resources for that API. By default, a list \"page\" will contain up to 20 resources. If you would like to change this just add a 'limit' query parameter to the GET request, e.g. ?=60. You can use 'offset' to move to the next page, e.g. ?limit=60&offset=60.\n",
        ">\n",
        "> Named (endpoint)\n",
        ">\n",
        "> `GET https://pokeapi.co/api/v2/{endpoint}/`\n",
        "\n",
        "## b. Bulbapedia\n",
        "**Challenge Score: 4**\n",
        "\n",
        "From Bulbapedia [Main Page](https://bulbapedia.bulbagarden.net/wiki/Main_Page \"Main Page\") and [Type Page](https://bulbapedia.bulbagarden.net/wiki/Type \"Type\")\n",
        "\n",
        "### 1. Overview\n",
        "> Bulbapedia is an encyclopedia about Pokémon to which anyone can contribute. Since its launch in February 2005, it has grown to become one of the largest Pokémon resources on the internet. As part of Bulbagarden, this ever-growing wiki is supported by Bulbanews, Bulbagarden Archives, and the Bulbagarden forums. You're welcome to browse for a while, if you wish, or make an account to start editing pages.\n",
        ">\n",
        "> We have 44,077 articles on a range of Pokémon-related topics.\n",
        ">\n",
        "> If you have any questions, first see the FAQ page. If this doesn't help, find an active staff member. They'll point you in the right direction.\n",
        "\n",
        "### 2. Aquisition\n",
        "\n",
        "As of right now, PokeAPI is comprehensive enough that, on the surface, there is no data that needs to be scraped.\n",
        "\n",
        "I elected to utilize scraping singular Bulbapedia pages if necessary to fill in static data rather than crawling and scraping pages to collect pokemon specific data because of the complex and inconsistent html used across pages. \n",
        "\n"
      ]
    },
    {
      "cell_type": "markdown",
      "metadata": {
        "id": "CLwTThWEswyy"
      },
      "source": [
        "# 3. Acessing Data Sources\n",
        "\n",
        "## a. PokeAPI\n",
        "\n",
        "Attempts to access PokeAPI have been successful."
      ]
    },
    {
      "cell_type": "code",
      "metadata": {
        "id": "gL-EpG2t_tw-"
      },
      "source": [
        "import requests\n",
        "import json"
      ],
      "execution_count": 3,
      "outputs": []
    },
    {
      "cell_type": "code",
      "metadata": {
        "colab": {
          "base_uri": "https://localhost:8080/"
        },
        "id": "KJCiyCep_4UJ",
        "outputId": "299211f0-8813-4793-ef1f-196c9469476e"
      },
      "source": [
        "endpoint = \"https://pokeapi.co/api/v2/pokemon/\"\n",
        "pikachu_response = requests.get(endpoint + \"pikachu\").json()\n",
        "print(pikachu_response['name'])"
      ],
      "execution_count": 6,
      "outputs": [
        {
          "output_type": "stream",
          "text": [
            "pikachu\n"
          ],
          "name": "stdout"
        }
      ]
    },
    {
      "cell_type": "markdown",
      "metadata": {
        "id": "B_bINLZEA1oS"
      },
      "source": [
        "## b. Bulbapedia\n",
        "\n",
        "Attempts to scrape Bulbapedia have been successful."
      ]
    },
    {
      "cell_type": "code",
      "metadata": {
        "id": "DmTFBzW7A8ei"
      },
      "source": [
        "from bs4 import BeautifulSoup as bs"
      ],
      "execution_count": 10,
      "outputs": []
    },
    {
      "cell_type": "code",
      "metadata": {
        "colab": {
          "base_uri": "https://localhost:8080/"
        },
        "id": "Ou54tHOIBAzh",
        "outputId": "45682e34-3d8d-460f-993d-bcf8e28214c9"
      },
      "source": [
        "pikachu_html = requests.get(\"https://bulbapedia.bulbagarden.net/wiki/Pikachu_(Pok%C3%A9mon)\").text\n",
        "pikachu_soup = bs(pikachu_html, 'html.parser')\n",
        "# print(pikachu_soup.prettify)\n",
        "name = pikachu_soup.find('h1', class_=\"firstHeading\").text\n",
        "print(name)"
      ],
      "execution_count": 13,
      "outputs": [
        {
          "output_type": "stream",
          "text": [
            "Pikachu (Pokémon)\n"
          ],
          "name": "stdout"
        }
      ]
    },
    {
      "cell_type": "markdown",
      "metadata": {
        "id": "7P9RvABXs62F"
      },
      "source": [
        "# 4. Data Processing and Presentation Options\n",
        "\n",
        "## a. Datasets\n",
        "\n",
        "- Data sets will be compiled by parsing json objects from PokeAPI responses.\n",
        "- Pandas will be used to maintain data tables, manipulate data, and statistical computations\n",
        "\n",
        "## b. Computations\n",
        "\n",
        "- Type specific stat distributions with confidence intervals for each type to determine boundaries of various stats for each type\n",
        "- Probabilities of types, moves, abilities, and habitats\n",
        "- Preprocessing of Pokemon stats for type and habitat predictions\n",
        "- Other computations may be necessary to achieve the project goals\n",
        "\n",
        "## c. Visualizations \n",
        "- Pokemon type distribution\n",
        "- Pokemon habitat distribution \n",
        "- Cluster scatterplot\n",
        "\n",
        "## d. Platform\n",
        "- Command Line?\n",
        "  - not ideal for plotting visualizations\n",
        "- Jupyter Notebook?\n",
        "  - easier for plotting visualizations\n",
        "  - user has to interact more than just entering input\n",
        "- Flask? \n",
        "  - unfamilliar with the package and implementation, other than what was reviewed in class\n",
        "\n",
        "\n",
        "\n"
      ]
    }
  ]
}